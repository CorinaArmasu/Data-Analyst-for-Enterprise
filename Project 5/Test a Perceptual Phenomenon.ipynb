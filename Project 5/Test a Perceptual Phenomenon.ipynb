{
 "cells": [
  {
   "cell_type": "markdown",
   "metadata": {},
   "source": [
    "### Analyzing the Stroop Effect\n",
    "Perform the analysis in the space below. Remember to follow [the instructions](https://docs.google.com/document/d/1-OkpZLjG_kX9J6LIQ5IltsqMzVWjh36QpnP2RYpVdPU/pub?embedded=True) and review the [project rubric](https://review.udacity.com/#!/rubrics/71/view) before submitting. Once you've completed the analysis and write-up, download this file as a PDF or HTML file, upload that PDF/HTML into the workspace here (click on the orange Jupyter icon in the upper left then Upload), then use the Submit Project button at the bottom of this page. This will create a zip file containing both this .ipynb doc and the PDF/HTML doc that will be submitted for your project.\n",
    "\n",
    "\n",
    "(1) What is the independent variable? What is the dependent variable?"
   ]
  },
  {
   "cell_type": "markdown",
   "metadata": {},
   "source": [
    "In this experiment the participants are exposed to 2 different conditions:\n",
    "\n",
    "-congruent condition : when color of the written word is the same as the text\n",
    "\n",
    "-incongruent condition : when color of the written word doesn't match the text.\n",
    "\n",
    "Independent variable is the color of the written word.\n",
    "\n",
    "Dependent variable is the time needed to name the color of the written word."
   ]
  },
  {
   "cell_type": "markdown",
   "metadata": {},
   "source": [
    "(2) What is an appropriate set of hypotheses for this task? Specify your null and alternative hypotheses, and clearly define any notation used. Justify your choices."
   ]
  },
  {
   "cell_type": "markdown",
   "metadata": {},
   "source": [
    "In this experiment, for the same participants is measured the population time needed to name the color of the written word in 2 different conditions: congruent and incongruent.\n",
    "\n",
    "We check if there are statistically significant differences in the population time mean needed to name the color of the written word between both conditions.\n",
    "\n",
    "-The same dependant variable is measured for each condition, population time mean needed to name the color fo the written word.\n",
    "\n",
    "-Our sample size is 24  and a small sample size generally is considered to be n<30.\n",
    "\n",
    "-We don't have any information about the population, it's provided only a sample size of 24 observations.\n",
    "\n",
    "-As there is no direction indicated, we choose a two-tailed t-test.\n",
    "\n",
    "A t-test, is needed, as we can determine if difference in population time mean of two datasets of observations is significant.\n",
    "\n",
    "Null hypothesis $H_0: \\mu_{congruent} - \\mu_{incongruent} = 0$ \n",
    "\n",
    "Alternative hypothesis $H_1: \\mu_{congruent} - \\mu_{incongruent} \\neq 0$\n",
    "\n",
    "$\\mu_{congruent}$ -population mean values for congruent condition\n",
    "\n",
    " $\\mu_{incongruent}$ -population mean values for congruent incongruent condition \n",
    "\n",
    "$H_0$ There is not a statistically significant difference between the population time mean needed to name the color of the written word between the 2 conditions: congruent and incongruent.\n",
    "\n",
    "$H_1$ There is a statistically significant difference between the population time mean needed to name the color of the written word between the 2 conditions: congruent and incongruent."
   ]
  },
  {
   "cell_type": "markdown",
   "metadata": {},
   "source": [
    "(3) Report some descriptive statistics regarding this dataset. Include at least one measure of central tendency and at least one measure of variability. The name of the data file is 'stroopdata.csv'."
   ]
  },
  {
   "cell_type": "code",
   "execution_count": 1,
   "metadata": {},
   "outputs": [
    {
     "data": {
      "text/html": [
       "<div>\n",
       "<style scoped>\n",
       "    .dataframe tbody tr th:only-of-type {\n",
       "        vertical-align: middle;\n",
       "    }\n",
       "\n",
       "    .dataframe tbody tr th {\n",
       "        vertical-align: top;\n",
       "    }\n",
       "\n",
       "    .dataframe thead th {\n",
       "        text-align: right;\n",
       "    }\n",
       "</style>\n",
       "<table border=\"1\" class=\"dataframe\">\n",
       "  <thead>\n",
       "    <tr style=\"text-align: right;\">\n",
       "      <th></th>\n",
       "      <th>Congruent</th>\n",
       "      <th>Incongruent</th>\n",
       "    </tr>\n",
       "  </thead>\n",
       "  <tbody>\n",
       "    <tr>\n",
       "      <th>0</th>\n",
       "      <td>12.079</td>\n",
       "      <td>19.278</td>\n",
       "    </tr>\n",
       "    <tr>\n",
       "      <th>1</th>\n",
       "      <td>16.791</td>\n",
       "      <td>18.741</td>\n",
       "    </tr>\n",
       "    <tr>\n",
       "      <th>2</th>\n",
       "      <td>9.564</td>\n",
       "      <td>21.214</td>\n",
       "    </tr>\n",
       "    <tr>\n",
       "      <th>3</th>\n",
       "      <td>8.630</td>\n",
       "      <td>15.687</td>\n",
       "    </tr>\n",
       "    <tr>\n",
       "      <th>4</th>\n",
       "      <td>14.669</td>\n",
       "      <td>22.803</td>\n",
       "    </tr>\n",
       "  </tbody>\n",
       "</table>\n",
       "</div>"
      ],
      "text/plain": [
       "   Congruent  Incongruent\n",
       "0     12.079       19.278\n",
       "1     16.791       18.741\n",
       "2      9.564       21.214\n",
       "3      8.630       15.687\n",
       "4     14.669       22.803"
      ]
     },
     "execution_count": 1,
     "metadata": {},
     "output_type": "execute_result"
    }
   ],
   "source": [
    "import pandas as pd\n",
    "import numpy as np\n",
    "import matplotlib.pyplot as plt\n",
    "import scipy.stats as stats\n",
    "% matplotlib inline\n",
    "\n",
    "df = pd.read_csv('stroopdata.csv')\n",
    "\n",
    "df.head()"
   ]
  },
  {
   "cell_type": "code",
   "execution_count": 2,
   "metadata": {},
   "outputs": [
    {
     "data": {
      "text/html": [
       "<div>\n",
       "<style scoped>\n",
       "    .dataframe tbody tr th:only-of-type {\n",
       "        vertical-align: middle;\n",
       "    }\n",
       "\n",
       "    .dataframe tbody tr th {\n",
       "        vertical-align: top;\n",
       "    }\n",
       "\n",
       "    .dataframe thead th {\n",
       "        text-align: right;\n",
       "    }\n",
       "</style>\n",
       "<table border=\"1\" class=\"dataframe\">\n",
       "  <thead>\n",
       "    <tr style=\"text-align: right;\">\n",
       "      <th></th>\n",
       "      <th>Congruent</th>\n",
       "      <th>Incongruent</th>\n",
       "    </tr>\n",
       "  </thead>\n",
       "  <tbody>\n",
       "    <tr>\n",
       "      <th>count</th>\n",
       "      <td>24.000000</td>\n",
       "      <td>24.000000</td>\n",
       "    </tr>\n",
       "    <tr>\n",
       "      <th>mean</th>\n",
       "      <td>14.051125</td>\n",
       "      <td>22.015917</td>\n",
       "    </tr>\n",
       "    <tr>\n",
       "      <th>std</th>\n",
       "      <td>3.559358</td>\n",
       "      <td>4.797057</td>\n",
       "    </tr>\n",
       "    <tr>\n",
       "      <th>min</th>\n",
       "      <td>8.630000</td>\n",
       "      <td>15.687000</td>\n",
       "    </tr>\n",
       "    <tr>\n",
       "      <th>25%</th>\n",
       "      <td>11.895250</td>\n",
       "      <td>18.716750</td>\n",
       "    </tr>\n",
       "    <tr>\n",
       "      <th>50%</th>\n",
       "      <td>14.356500</td>\n",
       "      <td>21.017500</td>\n",
       "    </tr>\n",
       "    <tr>\n",
       "      <th>75%</th>\n",
       "      <td>16.200750</td>\n",
       "      <td>24.051500</td>\n",
       "    </tr>\n",
       "    <tr>\n",
       "      <th>max</th>\n",
       "      <td>22.328000</td>\n",
       "      <td>35.255000</td>\n",
       "    </tr>\n",
       "  </tbody>\n",
       "</table>\n",
       "</div>"
      ],
      "text/plain": [
       "       Congruent  Incongruent\n",
       "count  24.000000    24.000000\n",
       "mean   14.051125    22.015917\n",
       "std     3.559358     4.797057\n",
       "min     8.630000    15.687000\n",
       "25%    11.895250    18.716750\n",
       "50%    14.356500    21.017500\n",
       "75%    16.200750    24.051500\n",
       "max    22.328000    35.255000"
      ]
     },
     "execution_count": 2,
     "metadata": {},
     "output_type": "execute_result"
    }
   ],
   "source": [
    "df.describe()"
   ]
  },
  {
   "cell_type": "markdown",
   "metadata": {},
   "source": [
    "Central Tendency\n",
    "\n",
    "The 50% quartile indicates the median time needed to name the color of the written word for congruent condition : 14.35 seconds while 21.01 seconds is the median time needed to name the color of the written word for incongruent condition.\n",
    "\n",
    "On average, a participant from the incongruent condition takes much more time to name the color of the written word: 22.01 seconds than the average time needed for a participant from the congruent condition to name the color of the written word: 14.05 seconds.\n",
    "\n",
    "Measure of Spread\n",
    "\n",
    "For the congruent condition, the standard deviation is 3.55 seconds while for the incongruent condition is 4.79 seconds."
   ]
  },
  {
   "cell_type": "markdown",
   "metadata": {},
   "source": [
    "(4) Provide one or two visualizations that show the distribution of the sample data. Write one or two sentences noting what you observe about the plot or plots."
   ]
  },
  {
   "cell_type": "code",
   "execution_count": 3,
   "metadata": {},
   "outputs": [
    {
     "data": {
      "image/png": "[encoded data removed]",
      "text/plain": [
       "<matplotlib.figure.Figure at 0x7f49abc69a20>"
      ]
     },
     "metadata": {
      "needs_background": "light"
     },
     "output_type": "display_data"
    }
   ],
   "source": [
    "plt.hist(df['Congruent'])\n",
    "plt.title('Distribution of time to name the color - Congruent condition')\n",
    "plt.xlabel('Time (seconds)')\n",
    "plt.ylabel('Frequency')\n",
    "\n",
    "plt.show;"
   ]
  },
  {
   "cell_type": "code",
   "execution_count": 4,
   "metadata": {},
   "outputs": [
    {
     "data": {
      "image/png": "[encoded data removed]",
      "text/plain": [
       "<matplotlib.figure.Figure at 0x7f49a9bc9dd8>"
      ]
     },
     "metadata": {
      "needs_background": "light"
     },
     "output_type": "display_data"
    }
   ],
   "source": [
    "plt.hist(df['Incongruent'])\n",
    "plt.title('Distribution of time to name the color - Incongruent condition')\n",
    "plt.xlabel('Time (seconds)')\n",
    "plt.ylabel('Frequency')\n",
    "\n",
    "plt.show;"
   ]
  },
  {
   "cell_type": "markdown",
   "metadata": {},
   "source": [
    "Both histograms seem to show normal distributions.For the incongruent condition we can notice that the distribution is more skewed to the right and also the presence of outliers.\n",
    "\n",
    "For the congruent condition data ranges from 8.63 seconds to 22.32 seconds while in the incongruent condition data lies between 15.68 seconds and 35.25 seconds. This different spread of data is stated also by the different standard deviations: 4.79 for incongruent condition and 3.55 for congruent condition."
   ]
  },
  {
   "cell_type": "markdown",
   "metadata": {},
   "source": [
    "(5)  Now, perform the statistical test and report your results. What is your confidence level or Type I error associated with your test? What is your conclusion regarding the hypotheses you set up? Did the results match up with your expectations? **Hint:**  Think about what is being measured on each individual, and what statistic best captures how an individual reacts in each environment."
   ]
  },
  {
   "cell_type": "raw",
   "metadata": {},
   "source": [
    "t-Test: Paired Two Sample for Means\t\t\n",
    "\t\t\n",
    "\t           Congruent\tIncongruent\n",
    "Mean\t       14,051125\t22,01591667\n",
    "Variance\t   12,66902907\t23,01175704\n",
    "Observations\t 24\t          24\n",
    "Pearson Correlation\t0,351819527\t\n",
    "Hypothesized Mean Difference\t0\t\n",
    "df\t23\t\n",
    "t Stat\t-8,020706944\t\n",
    "P(T<=t) one-tail\t2,0515E-08\t\n",
    "t Critical one-tail\t1,713871528\t\n",
    "P(T<=t) two-tail\t4,103E-08\t\n",
    "t Critical two-tail\t2,06865761\t"
   ]
  },
  {
   "cell_type": "markdown",
   "metadata": {},
   "source": [
    " **I performed a two-tailed, *dependent t-test* for congruent and incongruent condition.**\n",
    " \n",
    " No.of observations=24\n",
    " \n",
    " Degrees of freedom = 23 (24-1), \n",
    " \n",
    " Hypothesized Mean Difference=0 - considering the null hypothesis \n",
    " \n",
    " Type I error, confidence level alpha = 0.05.\n",
    " \n",
    " **T-statistic that results is -8.0207, which is much lower than the critical value of 2.0686.**\n",
    "   \n",
    "**Taking into consideration the results obtained above, I reject the null hypothesis.**"
   ]
  },
  {
   "cell_type": "markdown",
   "metadata": {},
   "source": [
    "(6) Optional: What do you think is responsible for the effects observed? Can you think of an alternative or similar task that would result in a similar effect? Some research about the problem will be helpful for thinking about these two questions!"
   ]
  },
  {
   "cell_type": "markdown",
   "metadata": {},
   "source": [
    "--write answer here--"
   ]
  }
 ],
 "metadata": {
  "kernelspec": {
   "display_name": "Python 3",
   "language": "python",
   "name": "python3"
  },
  "language_info": {
   "codemirror_mode": {
    "name": "ipython",
    "version": 3
   },
   "file_extension": ".py",
   "mimetype": "text/x-python",
   "name": "python",
   "nbconvert_exporter": "python",
   "pygments_lexer": "ipython3",
   "version": "3.6.3"
  }
 },
 "nbformat": 4,
 "nbformat_minor": 2
}
